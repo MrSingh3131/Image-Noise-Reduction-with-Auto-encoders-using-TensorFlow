{
  "nbformat": 4,
  "nbformat_minor": 0,
  "metadata": {
    "kernelspec": {
      "display_name": "Python 3",
      "language": "python",
      "name": "python3"
    },
    "language_info": {
      "codemirror_mode": {
        "name": "ipython",
        "version": 3
      },
      "file_extension": ".py",
      "mimetype": "text/x-python",
      "name": "python",
      "nbconvert_exporter": "python",
      "pygments_lexer": "ipython3",
      "version": "3.6.8"
    },
    "colab": {
      "name": "Image_Noise_Reduction_with_Autoencoders.ipynb",
      "provenance": [],
      "collapsed_sections": []
    }
  },
  "cells": [
    {
      "cell_type": "markdown",
      "metadata": {
        "id": "gcX6RYwTy0yn",
        "colab_type": "text"
      },
      "source": [
        "# Image Noise Reduction with Autoencoders using Tensor Flow"
      ]
    },
    {
      "cell_type": "markdown",
      "metadata": {
        "id": "3fFZzO713CDQ",
        "colab_type": "text"
      },
      "source": [
        "**Objective** - We will create 2 neural network model in this project:\n",
        "\n",
        "1. To train the model from handwritten digit from mnist dataset.\n",
        "\n",
        "2. To denoise input data(this is autoencoder). In our dataset, there is no noisy data. So, firstly we will add noisy data in Task 3 and then denoise our data. "
      ]
    },
    {
      "cell_type": "markdown",
      "metadata": {
        "id": "RhTTWYdg2n4k",
        "colab_type": "text"
      },
      "source": [
        "___\n",
        "## Task 1: Introduction and Importing Libraries"
      ]
    },
    {
      "cell_type": "markdown",
      "metadata": {
        "id": "-fGtZ7nRzSd2",
        "colab_type": "text"
      },
      "source": [
        "\n",
        "**Autoencoding** is a type of artifical neural network which helps to reduce the dimensionality of data by training the network for denoising(to ignore signal noise)."
      ]
    },
    {
      "cell_type": "code",
      "metadata": {
        "id": "vOF8cpy3y0yp",
        "colab_type": "code",
        "colab": {}
      },
      "source": [
        "import numpy as np\n",
        "\n",
        "from tensorflow.keras.datasets import mnist\n",
        "from matplotlib import pyplot as plt\n",
        "from tensorflow.keras.models import Sequential, Model\n",
        "from tensorflow.keras.layers import Dense, Input\n",
        "from tensorflow.keras.callbacks import EarlyStopping, LambdaCallback\n",
        "from tensorflow.keras.utils import to_categorical\n",
        "\n",
        "%matplotlib inline"
      ],
      "execution_count": 0,
      "outputs": []
    },
    {
      "cell_type": "markdown",
      "metadata": {
        "id": "1T4vm8u1y0yu",
        "colab_type": "text"
      },
      "source": [
        "## Task 2: Data Preprocessing"
      ]
    },
    {
      "cell_type": "markdown",
      "metadata": {
        "id": "VyWCCWmhS1sM",
        "colab_type": "text"
      },
      "source": [
        "For this project, we are using the popular MNIST data-set. This data-set has 60,000 examples of images of handwritten digits in the training set and 10,000 examples in the test set. The examples are black and white images of 28x28. As in, 28 rows and 28 columns for each example. The labels are simply digits corresponding to the 10 classes from 0 to 9. We will create two neural network models in this project - one will be trained to perform classification of these handwritten digits. And another model will be used to de-noise input data. This is our Auto-encoder. Eventually, we will connect the two models together and have them work in conjunction as a single, composite model. In order to input the examples to our two models, we will do a little bit of processing on them."
      ]
    },
    {
      "cell_type": "code",
      "metadata": {
        "id": "AVSf1oPUy0yv",
        "colab_type": "code",
        "colab": {
          "base_uri": "https://localhost:8080/",
          "height": 52
        },
        "outputId": "efbe7705-b0e6-480d-ff3e-93f774bf62ce"
      },
      "source": [
        "(X_train, Y_train), (X_test, Y_test) = mnist.load_data()\n",
        "# our values are from range 0-255\n",
        "\n",
        "# now bring these values in range(0,1) i.e plain normalisation. This is not good an approach as the data must be from 0 and we should know the highest value\n",
        "# else normalisation can be done using mean and standard deviation\n",
        "X_train = X_train.astype('float')/255\n",
        "X_test = X_test.astype('float')/255\n",
        "\n",
        "# reshaping from (60000, (28,28)) to (60000, 784)\n",
        "X_train = np.reshape(X_train, (60000, 784))\n",
        "X_test = np.reshape(X_test, (10000, 784))"
      ],
      "execution_count": 2,
      "outputs": [
        {
          "output_type": "stream",
          "text": [
            "Downloading data from https://storage.googleapis.com/tensorflow/tf-keras-datasets/mnist.npz\n",
            "11493376/11490434 [==============================] - 0s 0us/step\n"
          ],
          "name": "stdout"
        }
      ]
    },
    {
      "cell_type": "markdown",
      "metadata": {
        "id": "gmAfaAagy0y0",
        "colab_type": "text"
      },
      "source": [
        "## Task 3: Adding Noise"
      ]
    },
    {
      "cell_type": "markdown",
      "metadata": {
        "id": "VVBBJC2U5f0a",
        "colab_type": "text"
      },
      "source": [
        "**Objective** - To add artifical noisy data in our dataset. \n",
        "\n",
        "We are artificially adding some noise to our training and test examples. You may wonder - why synthesize the noise to train the Auto-encoder? This is because in real world applications, while we will often get noisy data, we will not have the corresponding _clean_ labels. Instead, when we synthesize noise on already clean images, we can train an Auto-encoder to focus on the important parts of the images and then when it's applied to real world noisy data, it knows where to focus and which features to retain."
      ]
    },
    {
      "cell_type": "code",
      "metadata": {
        "id": "to1fn7R9y0y1",
        "colab_type": "code",
        "outputId": "5203fb35-1128-42d0-d71b-8f590faa447f",
        "colab": {
          "base_uri": "https://localhost:8080/",
          "height": 318
        }
      },
      "source": [
        "# this cell is just for understanding\n",
        "noisyy = np.random.rand(60000, 784)\n",
        "noisyyy = noisyy * 0.9   # to ensure that value do not become tooo big or tooo small\n",
        "print(\"noisyy:\", noisyy)\n",
        "print(\"\\nnoisyy shape :\", noisyy.shape)\n",
        "print(\"\\nnoisyyy:\", noisyyy)"
      ],
      "execution_count": 3,
      "outputs": [
        {
          "output_type": "stream",
          "text": [
            "noisyy: [[0.91603285 0.61757283 0.90489788 ... 0.45769507 0.61660547 0.56105992]\n",
            " [0.77296152 0.95774622 0.4442438  ... 0.50406748 0.00679995 0.82791642]\n",
            " [0.0429411  0.46891103 0.26275187 ... 0.20639758 0.26182046 0.39843877]\n",
            " ...\n",
            " [0.5605157  0.28110201 0.79323912 ... 0.81259329 0.79593209 0.72910137]\n",
            " [0.82269423 0.82109323 0.21975269 ... 0.31994867 0.68365491 0.83732513]\n",
            " [0.93607239 0.34733881 0.87727141 ... 0.30067774 0.30747545 0.96885381]]\n",
            "\n",
            "noisyy shape : (60000, 784)\n",
            "\n",
            "noisyyy: [[0.82442956 0.55581555 0.8144081  ... 0.41192556 0.55494492 0.50495393]\n",
            " [0.69566537 0.8619716  0.39981942 ... 0.45366074 0.00611995 0.74512478]\n",
            " [0.03864699 0.42201992 0.23647668 ... 0.18575783 0.23563842 0.35859489]\n",
            " ...\n",
            " [0.50446413 0.25299181 0.7139152  ... 0.73133396 0.71633888 0.65619124]\n",
            " [0.7404248  0.73898391 0.19777742 ... 0.2879538  0.61528942 0.75359262]\n",
            " [0.84246515 0.31260493 0.78954427 ... 0.27060997 0.2767279  0.87196843]]\n"
          ],
          "name": "stdout"
        }
      ]
    },
    {
      "cell_type": "markdown",
      "metadata": {
        "id": "QYqVa-asbwHU",
        "colab_type": "text"
      },
      "source": [
        "\\>>>a = np.arange(10)\n",
        "\n",
        "\\>>>np.clip(a, 1, 8)\n",
        "\n",
        "array([1, 1, 2, 3, 4, 5, 6, 7, 8, 8])\n",
        "\n",
        "\\>>>a\n",
        "\n",
        "array([0, 1, 2, 3, 4, 5, 6, 7, 8, 9])\n",
        "\n",
        "\\>>>np.clip(a, 3, 6, out=a)\n",
        "\n",
        "array([3, 3, 3, 3, 4, 5, 6, 6, 6, 6])\n",
        "\n",
        "\\>>>a = np.arange(10)\n",
        "\n",
        "\\>>>a\n",
        "\n",
        "array([0, 1, 2, 3, 4, 5, 6, 7, 8, 9])\n",
        "\n",
        "/>>>np.clip(a, [3, 4, 1, 1, 1, 4, 4, 4, 4, 4], 8)\n",
        "\n",
        "array([3, 4, 2, 3, 4, 5, 6, 7, 8, 8])"
      ]
    },
    {
      "cell_type": "code",
      "metadata": {
        "id": "vrioyzw5y0y6",
        "colab_type": "code",
        "outputId": "1f5d174e-7a18-4228-e11d-c34504894a8c",
        "colab": {
          "base_uri": "https://localhost:8080/",
          "height": 247
        }
      },
      "source": [
        "# random.rand - It will give random values in range (0,1)\n",
        "X_train_noisy = X_train + np.random.rand(60000, 784)*0.9\n",
        "X_test_noisy = X_test + np.random.rand(10000, 784)*0.9  \n",
        "\n",
        "# to ensure that our data remains in range(0,1)\n",
        "# 0. means there are going to be floating values.\n",
        "# numpy. clip() function is used to Clip (limit) the values in an array.\n",
        "# np.clip(X_train_noisy, 0., 1.) - value smaller than 0 will become 0 and graeter than 1 will become 1 \n",
        "X_train_noisy = np.clip(X_train_noisy, 0., 1.)\n",
        "np.clip(X_test_noisy, 0., 1.,out=X_test_noisy)"
      ],
      "execution_count": 4,
      "outputs": [
        {
          "output_type": "execute_result",
          "data": {
            "text/plain": [
              "array([[0.63291843, 0.32792804, 0.69827364, ..., 0.25816329, 0.76736251,\n",
              "        0.03338416],\n",
              "       [0.63546397, 0.40431771, 0.45198337, ..., 0.75527213, 0.82354388,\n",
              "        0.68722546],\n",
              "       [0.31428008, 0.86376695, 0.38374472, ..., 0.05825698, 0.43570354,\n",
              "        0.76659363],\n",
              "       ...,\n",
              "       [0.08666658, 0.17689613, 0.09117555, ..., 0.08266341, 0.10044734,\n",
              "        0.22608166],\n",
              "       [0.67258954, 0.84086113, 0.13422443, ..., 0.3220944 , 0.52996549,\n",
              "        0.76708107],\n",
              "       [0.24477464, 0.54295529, 0.24602905, ..., 0.25274153, 0.06455369,\n",
              "        0.22174068]])"
            ]
          },
          "metadata": {
            "tags": []
          },
          "execution_count": 4
        }
      ]
    },
    {
      "cell_type": "markdown",
      "metadata": {
        "id": "CHjPZjDbCuBq",
        "colab_type": "text"
      },
      "source": [
        "**Difference between imshow() and show()** - \n",
        "\n",
        "1. show() - It is used to show images but do not store images.\n",
        "\n",
        "2. imshow() - It is used to store images but not used to show images.\n",
        "\n",
        "**Difference between xlabels() and xticks()** - \n",
        "\n",
        "1. xlabels() - will display label of x-coordinate. For eg - year\n",
        "\n",
        "2. xticks() - will display specific points on x-coordinate. For eg - 2000, 2001, 20002,....\n"
      ]
    },
    {
      "cell_type": "code",
      "metadata": {
        "id": "dHB_1aqPy0y_",
        "colab_type": "code",
        "outputId": "b6e258a7-1dfb-4e2d-c7ba-aea3da31506d",
        "colab": {
          "base_uri": "https://localhost:8080/",
          "height": 142
        }
      },
      "source": [
        "# here we will show what happens when data is noisy\n",
        "# p - predictions \n",
        "def plot(x, p, labels=False):\n",
        "  plt.figure(figsize=(20, 2))\n",
        "  # we are taking 10 images at a time \n",
        "  for i in range(10):\n",
        "    plt.subplot(1, 10, i+1) # 1 row, 10 column, i+1 - index of image which starts from 1 always\n",
        "    plt.imshow(x[i].reshape(28, 28), cmap='binary')\n",
        "    # plt.xticks([]) # to blank specific points on x-axis\n",
        "    plt.yticks([]) # to blank specific points on y-axis\n",
        "    # if predictions have been done \n",
        "    if labels:\n",
        "      plt.xlabel(np.argmax(p[i]))\n",
        "  plt.show()      \n",
        "\n",
        "plot(X_train, None)"
      ],
      "execution_count": 5,
      "outputs": [
        {
          "output_type": "display_data",
          "data": {
            "image/png": "[encoded data removed]",
            "text/plain": [
              "<Figure size 1440x144 with 10 Axes>"
            ]
          },
          "metadata": {
            "tags": [],
            "needs_background": "light"
          }
        }
      ]
    },
    {
      "cell_type": "code",
      "metadata": {
        "id": "BLgS3v1_BTvG",
        "colab_type": "code",
        "outputId": "0803758c-6560-4ac1-99e8-def09c3b1ea5",
        "colab": {
          "base_uri": "https://localhost:8080/",
          "height": 142
        }
      },
      "source": [
        "# plot after adding noise to our dataset\n",
        "plot(X_train_noisy, None)"
      ],
      "execution_count": 6,
      "outputs": [
        {
          "output_type": "display_data",
          "data": {
            "image/png": "[encoded data removed]",
            "text/plain": [
              "<Figure size 1440x144 with 10 Axes>"
            ]
          },
          "metadata": {
            "tags": [],
            "needs_background": "light"
          }
        }
      ]
    },
    {
      "cell_type": "markdown",
      "metadata": {
        "id": "ffVpBclBy0zD",
        "colab_type": "text"
      },
      "source": [
        "## Task 4: Building and Training a Classifier"
      ]
    },
    {
      "cell_type": "code",
      "metadata": {
        "id": "Er9NccAsy0zE",
        "colab_type": "code",
        "outputId": "87b9561a-b596-4c97-f832-70dba81226be",
        "colab": {
          "base_uri": "https://localhost:8080/",
          "height": 265
        }
      },
      "source": [
        "classifier = Sequential([\n",
        "                         Dense(256, activation='relu', input_shape=(784,)),\n",
        "                         Dense(256, activation='relu'),\n",
        "                         Dense(10, activation='softmax')\n",
        "])\n",
        "\n",
        "classifier.compile(\n",
        "    optimizer='adam',\n",
        "    # if our labels were encoded in onehotencoding then we could use loss='categorical_crossentropy'\n",
        "    loss='sparse_categorical_crossentropy',\n",
        "    metrics=['accuracy']\n",
        ")\n",
        "\n",
        "classifier.summary()"
      ],
      "execution_count": 7,
      "outputs": [
        {
          "output_type": "stream",
          "text": [
            "Model: \"sequential\"\n",
            "_________________________________________________________________\n",
            "Layer (type)                 Output Shape              Param #   \n",
            "=================================================================\n",
            "dense (Dense)                (None, 256)               200960    \n",
            "_________________________________________________________________\n",
            "dense_1 (Dense)              (None, 256)               65792     \n",
            "_________________________________________________________________\n",
            "dense_2 (Dense)              (None, 10)                2570      \n",
            "=================================================================\n",
            "Total params: 269,322\n",
            "Trainable params: 269,322\n",
            "Non-trainable params: 0\n",
            "_________________________________________________________________\n"
          ],
          "name": "stdout"
        }
      ]
    },
    {
      "cell_type": "code",
      "metadata": {
        "id": "hz06WdWUy0zJ",
        "colab_type": "code",
        "outputId": "ecaea2d1-93e1-4bd0-ddf7-449685533b6c",
        "colab": {
          "base_uri": "https://localhost:8080/",
          "height": 158
        }
      },
      "source": [
        "# batch_size=512 -> This is done to speed up the training\n",
        "print(Y_train.shape)\n",
        "# training model for 3 epochs \n",
        "classifier.fit(X_train, Y_train, batch_size=512, epochs=3) # batch size is 512 so it will run for 60000/512 = 118(approx) times"
      ],
      "execution_count": 8,
      "outputs": [
        {
          "output_type": "stream",
          "text": [
            "(60000,)\n",
            "Epoch 1/3\n",
            "118/118 [==============================] - 2s 15ms/step - loss: 0.4158 - accuracy: 0.8868\n",
            "Epoch 2/3\n",
            "118/118 [==============================] - 2s 15ms/step - loss: 0.1515 - accuracy: 0.9556\n",
            "Epoch 3/3\n",
            "118/118 [==============================] - 2s 16ms/step - loss: 0.1013 - accuracy: 0.9705\n"
          ],
          "name": "stdout"
        },
        {
          "output_type": "execute_result",
          "data": {
            "text/plain": [
              "<tensorflow.python.keras.callbacks.History at 0x7fdf87c9bb38>"
            ]
          },
          "metadata": {
            "tags": []
          },
          "execution_count": 8
        }
      ]
    },
    {
      "cell_type": "markdown",
      "metadata": {
        "id": "L2pkAXlIGuKr",
        "colab_type": "text"
      },
      "source": [
        "**Without noisy data**"
      ]
    },
    {
      "cell_type": "code",
      "metadata": {
        "id": "rvDO7qUiy0zN",
        "colab_type": "code",
        "outputId": "9999d028-ff1b-42a3-83f8-f2be09112c17",
        "colab": {
          "base_uri": "https://localhost:8080/",
          "height": 52
        }
      },
      "source": [
        "loss, accuracy = classifier.evaluate(X_test, Y_test,batch_size=32) #default batch size = 32. Hence 32*313 is just bigger than 10000 so it ran for 313 cases\n",
        "print(accuracy)"
      ],
      "execution_count": 9,
      "outputs": [
        {
          "output_type": "stream",
          "text": [
            "313/313 [==============================] - 0s 2ms/step - loss: 0.0984 - accuracy: 0.9714\n",
            "0.9714000225067139\n"
          ],
          "name": "stdout"
        }
      ]
    },
    {
      "cell_type": "markdown",
      "metadata": {
        "id": "edcGIwgAGb2B",
        "colab_type": "text"
      },
      "source": [
        "**With noisy data**"
      ]
    },
    {
      "cell_type": "code",
      "metadata": {
        "id": "9zfIwUnNGdwA",
        "colab_type": "code",
        "outputId": "51c865d5-9c85-4361-f6cb-99b0912ddeac",
        "colab": {
          "base_uri": "https://localhost:8080/",
          "height": 52
        }
      },
      "source": [
        "loss_noisy, accuracy_noisy = classifier.evaluate(X_test_noisy, Y_test)\n",
        "print(accuracy_noisy)"
      ],
      "execution_count": 10,
      "outputs": [
        {
          "output_type": "stream",
          "text": [
            "313/313 [==============================] - 0s 2ms/step - loss: 7.6680 - accuracy: 0.2077\n",
            "0.2076999992132187\n"
          ],
          "name": "stdout"
        }
      ]
    },
    {
      "cell_type": "markdown",
      "metadata": {
        "id": "CHPQ2O13659s",
        "colab_type": "text"
      },
      "source": [
        "**Note - **\n",
        "\n",
        "1. Our classifier is not working good on noisy data. \n",
        "\n",
        "2. Accuracy =  0.2239 - is almost a random guess.\n",
        "\n",
        "3. To overcome this problem, we will build autoencoder which will denoise our noisy data. "
      ]
    },
    {
      "cell_type": "markdown",
      "metadata": {
        "id": "VEtntE_Xy0zR",
        "colab_type": "text"
      },
      "source": [
        "## Task 5: Building the Autoencoder"
      ]
    },
    {
      "cell_type": "markdown",
      "metadata": {
        "id": "bblPGjCjHabf",
        "colab_type": "text"
      },
      "source": [
        "If one or more hidden layers in this neural network has lot less nodes as compared to the input and output layer then the training process will force the network to learn a function similar to principal component analysis (eg finding speech in a noisy party) essentially reducing dimensionality. And it will force our model to learn the more important charcteristics from the dataset and focus only on that. "
      ]
    },
    {
      "cell_type": "code",
      "metadata": {
        "id": "JZ5FY6rzy0zS",
        "colab_type": "code",
        "colab": {}
      },
      "source": [
        "# we take image with 784 features and reduce the dimensionality and force it to have 64 features and at last expand it again(back to 784 features)\n",
        "# This way, our auto encoder learns to focus only on the important stuff \n",
        "input_image = Input(shape=(784,))\n",
        "encoded = Dense(64, activation='relu')(input_image) # 64 is taken to reduce the dimensionality\n",
        "decoded = Dense(784, activation = 'sigmoid')(encoded)\n",
        "\n",
        "autoencoder = Model(input_image, decoded)\n",
        "autoencoder.compile(loss='binary_crossentropy', optimizer='adam')"
      ],
      "execution_count": 0,
      "outputs": []
    },
    {
      "cell_type": "markdown",
      "metadata": {
        "id": "7DcVCXH_y0zV",
        "colab_type": "text"
      },
      "source": [
        "## Task 6: Training the Autoencoder"
      ]
    },
    {
      "cell_type": "markdown",
      "metadata": {
        "id": "syVVfcy6kBEV",
        "colab_type": "text"
      },
      "source": [
        "By doing this training, our auto encoder will learn to recognize the important features and learn to ignore non-important features. "
      ]
    },
    {
      "cell_type": "markdown",
      "metadata": {
        "id": "t-l8iKQolDcd",
        "colab_type": "text"
      },
      "source": [
        "1. **Verbose** is an optional argument which can be used to report more information about an operation in your program.\n",
        "\n",
        "2. **Validation_split**: Float between 0 and 1. Fraction of the training data to be used as validation data.\n",
        "\n",
        "3. **Batch_size** denotes the subset size of your training sample (e.g. 100 out of 1000) which is going to be used in order to train the network during its learning process.\n",
        "\n",
        "4. An **Epoch** refers to one cycle through the full training dataset."
      ]
    },
    {
      "cell_type": "code",
      "metadata": {
        "id": "j8YypXwty0zW",
        "colab_type": "code",
        "outputId": "5f6a2f02-284b-40fc-c1b8-2cd38ec285b7",
        "colab": {
          "base_uri": "https://localhost:8080/",
          "height": 72
        }
      },
      "source": [
        "# batch_size=512 -> helps to speed up the training process \n",
        "autoencoder.fit(\n",
        "    X_train_noisy, X_train, epochs=100, \n",
        "    batch_size=512, validation_split=0.2, verbose=False, \n",
        "    callbacks=[\n",
        "               # if validation loss does not decrease for 5 epochs then our model will stop the training\n",
        "               EarlyStopping(monitor='val_loss', patience=5),\n",
        "               # on_epoch_end - means lambda function will call on the end of each epoch \n",
        "               LambdaCallback(on_epoch_end=lambda e,l: print('{:.3f}'.format(l['val_loss']), end=' _ '))\n",
        "    ]\n",
        ")\n",
        "\n",
        "print(' _ ')\n",
        "print(\"Training is complete!\")"
      ],
      "execution_count": 12,
      "outputs": [
        {
          "output_type": "stream",
          "text": [
            "0.259 _ 0.231 _ 0.203 _ 0.183 _ 0.172 _ 0.163 _ 0.156 _ 0.149 _ 0.143 _ 0.139 _ 0.135 _ 0.131 _ 0.128 _ 0.125 _ 0.123 _ 0.121 _ 0.119 _ 0.118 _ 0.116 _ 0.114 _ 0.113 _ 0.112 _ 0.112 _ 0.111 _ 0.111 _ 0.110 _ 0.110 _ 0.109 _ 0.109 _ 0.109 _ 0.108 _ 0.108 _ 0.108 _ 0.108 _ 0.108 _ 0.108 _ 0.108 _ 0.107 _ 0.107 _ 0.107 _ 0.107 _ 0.107 _ 0.107 _ 0.107 _ 0.107 _ 0.107 _ 0.107 _ 0.107 _ 0.107 _ 0.107 _ 0.107 _ 0.107 _ 0.107 _ 0.107 _ 0.107 _ 0.107 _ 0.107 _ 0.107 _ 0.107 _ 0.107 _ 0.107 _ 0.107 _ 0.107 _ 0.107 _  _ \n",
            "Training is complete!\n"
          ],
          "name": "stdout"
        }
      ]
    },
    {
      "cell_type": "markdown",
      "metadata": {
        "id": "OHuTb0RDy0zb",
        "colab_type": "text"
      },
      "source": [
        "## Task 7: Denoised Images"
      ]
    },
    {
      "cell_type": "code",
      "metadata": {
        "id": "QRMi7xbWy0zc",
        "colab_type": "code",
        "colab": {}
      },
      "source": [
        "predictions = autoencoder.predict(X_test_noisy)"
      ],
      "execution_count": 0,
      "outputs": []
    },
    {
      "cell_type": "code",
      "metadata": {
        "id": "itNGjyEUy0zf",
        "colab_type": "code",
        "colab": {
          "base_uri": "https://localhost:8080/",
          "height": 142
        },
        "outputId": "f7ccc080-7374-439c-fb55-21bd37291113"
      },
      "source": [
        "plot(X_test_noisy, None)"
      ],
      "execution_count": 14,
      "outputs": [
        {
          "output_type": "display_data",
          "data": {
            "image/png": "[encoded data removed]",
            "text/plain": [
              "<Figure size 1440x144 with 10 Axes>"
            ]
          },
          "metadata": {
            "tags": [],
            "needs_background": "light"
          }
        }
      ]
    },
    {
      "cell_type": "code",
      "metadata": {
        "id": "qSyiPpYly0zj",
        "colab_type": "code",
        "colab": {
          "base_uri": "https://localhost:8080/",
          "height": 142
        },
        "outputId": "4f95d4f5-6629-4467-ebad-aeeddbc465ab"
      },
      "source": [
        "plot(predictions, None)"
      ],
      "execution_count": 15,
      "outputs": [
        {
          "output_type": "display_data",
          "data": {
            "image/png": "[encoded data removed]",
            "text/plain": [
              "<Figure size 1440x144 with 10 Axes>"
            ]
          },
          "metadata": {
            "tags": [],
            "needs_background": "light"
          }
        }
      ]
    },
    {
      "cell_type": "markdown",
      "metadata": {
        "id": "3qljS0nfopQq",
        "colab_type": "text"
      },
      "source": [
        "**Note** - This can be improved more by using convolutional neural network. "
      ]
    },
    {
      "cell_type": "code",
      "metadata": {
        "id": "vR-oSUbHy0zm",
        "colab_type": "code",
        "colab": {
          "base_uri": "https://localhost:8080/",
          "height": 70
        },
        "outputId": "c2a714fd-9163-40ce-a979-3bbe081437e6"
      },
      "source": [
        "loss, accuracy = classifier.evaluate(X_test_noisy, Y_test)\n",
        "print(\"For noisy data - \")\n",
        "print(accuracy)"
      ],
      "execution_count": 16,
      "outputs": [
        {
          "output_type": "stream",
          "text": [
            "313/313 [==============================] - 0s 1ms/step - loss: 7.6680 - accuracy: 0.2077\n",
            "For noisy data - \n",
            "0.2076999992132187\n"
          ],
          "name": "stdout"
        }
      ]
    },
    {
      "cell_type": "code",
      "metadata": {
        "id": "bJA1gAwJpQII",
        "colab_type": "code",
        "colab": {
          "base_uri": "https://localhost:8080/",
          "height": 70
        },
        "outputId": "2f9e84e0-cd99-4ade-b07c-c9f76f7f2e91"
      },
      "source": [
        "loss, accuracy = classifier.evaluate(predictions, Y_test)\n",
        "print(\"For denoised data - \")\n",
        "print(accuracy)"
      ],
      "execution_count": 17,
      "outputs": [
        {
          "output_type": "stream",
          "text": [
            "313/313 [==============================] - 0s 2ms/step - loss: 0.1812 - accuracy: 0.9410\n",
            "For denoised data - \n",
            "0.9409999847412109\n"
          ],
          "name": "stdout"
        }
      ]
    },
    {
      "cell_type": "markdown",
      "metadata": {
        "id": "bMek70jPy0zp",
        "colab_type": "text"
      },
      "source": [
        "## Task 8: Composite Model"
      ]
    },
    {
      "cell_type": "code",
      "metadata": {
        "id": "XOTZHxPxy0zp",
        "colab_type": "code",
        "colab": {}
      },
      "source": [
        "input_image = Input(shape=(784,))\n",
        "x = autoencoder(input_image)   # hopefully x is denoised image \n",
        "y = classifier(x)\n",
        "\n",
        "denoise_and_classify = Model(input_image, y)"
      ],
      "execution_count": 0,
      "outputs": []
    },
    {
      "cell_type": "code",
      "metadata": {
        "id": "83blj5WRy0zt",
        "colab_type": "code",
        "colab": {}
      },
      "source": [
        "predictions = denoise_and_classify.predict(X_test_noisy)"
      ],
      "execution_count": 0,
      "outputs": []
    },
    {
      "cell_type": "code",
      "metadata": {
        "id": "NqkMYb_4y0zw",
        "colab_type": "code",
        "colab": {
          "base_uri": "https://localhost:8080/",
          "height": 155
        },
        "outputId": "b34869f4-ca7f-473b-b0d8-56e8b1fce449"
      },
      "source": [
        "plot(X_test_noisy, predictions, True)"
      ],
      "execution_count": 20,
      "outputs": [
        {
          "output_type": "display_data",
          "data": {
            "image/png": "[encoded data removed]",
            "text/plain": [
              "<Figure size 1440x144 with 10 Axes>"
            ]
          },
          "metadata": {
            "tags": [],
            "needs_background": "light"
          }
        }
      ]
    },
    {
      "cell_type": "code",
      "metadata": {
        "id": "yivIayFSrt40",
        "colab_type": "code",
        "colab": {
          "base_uri": "https://localhost:8080/",
          "height": 52
        },
        "outputId": "47d2afa8-4bf9-4a40-c431-255172d9a6e5"
      },
      "source": [
        "a=to_categorical(Y_test)\n",
        "print(Y_test[0])\n",
        "print(a[0])"
      ],
      "execution_count": 21,
      "outputs": [
        {
          "output_type": "stream",
          "text": [
            "7\n",
            "[0. 0. 0. 0. 0. 0. 0. 1. 0. 0.]\n"
          ],
          "name": "stdout"
        }
      ]
    },
    {
      "cell_type": "code",
      "metadata": {
        "id": "JnUzSbnly0z0",
        "colab_type": "code",
        "colab": {
          "base_uri": "https://localhost:8080/",
          "height": 155
        },
        "outputId": "0a7fdfcf-ac30-461c-dc02-44f86c6b44c7"
      },
      "source": [
        "plot(X_test, to_categorical(Y_test), True)"
      ],
      "execution_count": 22,
      "outputs": [
        {
          "output_type": "display_data",
          "data": {
            "image/png": "[encoded data removed]",
            "text/plain": [
              "<Figure size 1440x144 with 10 Axes>"
            ]
          },
          "metadata": {
            "tags": [],
            "needs_background": "light"
          }
        }
      ]
    }
  ]
}